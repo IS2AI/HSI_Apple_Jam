{
 "cells": [
  {
   "cell_type": "code",
   "execution_count": null,
   "id": "b51de690-0266-449a-b00c-4c53a8334cbc",
   "metadata": {},
   "outputs": [],
   "source": [
    "import numpy as np\n",
    "import pandas as pd\n",
    "from tqdm import tqdm\n",
    "from pathlib import Path"
   ]
  },
  {
   "cell_type": "code",
   "execution_count": null,
   "id": "c51fe2e3-b94a-4ef7-8ef0-7b2fa30d3e4f",
   "metadata": {},
   "outputs": [],
   "source": [
    "def extract_mean_vectors_from_crop(img: np.ndarray, margin_frac: float, grid_size: int):\n",
    "    \"\"\"\n",
    "    Compute average spectral vectors from sub-patches of a cropped hyperspectral image.\n",
    "\n",
    "    Args:\n",
    "        img (np.ndarray): Hyperspectral cube (H, W, Bands)\n",
    "        margin_frac (float): Fraction of image borders to crop out\n",
    "        grid_size (int): Number of divisions along each dimension (e.g., 5 for 5×5 grid)\n",
    "    Returns:\n",
    "        list of np.ndarray: Mean-normalized spectral vectors per patch\n",
    "    \"\"\"\n",
    "    H, W, _ = img.shape\n",
    "\n",
    "    # Apply margin\n",
    "    margin_y = int(H * margin_frac)\n",
    "    margin_x = int(W * margin_frac)\n",
    "    roi_img = img[margin_y:H - margin_y, margin_x:W - margin_x, :]\n",
    "\n",
    "    results = []\n",
    "    rows = np.array_split(roi_img, grid_size, axis=0)\n",
    "    for i in range(grid_size):\n",
    "        cols = np.array_split(rows[i], grid_size, axis=1)\n",
    "        for j in range(grid_size):\n",
    "            patch = cols[j]\n",
    "            pixels = patch.reshape(-1, patch.shape[2])\n",
    "            pixels = pixels / (np.linalg.norm(pixels, axis=1, keepdims=True) + 1e-8)\n",
    "            vec = pixels.mean(axis=0)\n",
    "            results.append(vec)\n",
    "    return results"
   ]
  },
  {
   "cell_type": "markdown",
   "id": "581ccd83-938b-4e8a-8863-7a6567363207",
   "metadata": {},
   "source": [
    "#\n",
    "# Cultivar-based splitting"
   ]
  },
  {
   "cell_type": "code",
   "execution_count": null,
   "id": "467fa337-2793-4aaf-9fe3-2e6059c1862a",
   "metadata": {},
   "outputs": [],
   "source": [
    "def generate_apple_based_split(df, grid_size: int):\n",
    "    \"\"\"\n",
    "    Extracts mean spectral vectors for the specified grid size,\n",
    "    applies the apple-type-based splitting strategy,\n",
    "    and saves train/val/test CSVs.\n",
    "\n",
    "    Args:\n",
    "        df (pd.DataFrame): DataFrame containing 'path', 'label', and 'apple_type' columns\n",
    "        grid_size (int): number of subpatches per dimension (e.g., 5 for 5×5 grid)\n",
    "    \"\"\"\n",
    "    # === Split configuration ===\n",
    "    val_apple_types = {\"prince\"}\n",
    "    test_apple_types = {\"granny\"}\n",
    "\n",
    "    mean_spectra = []\n",
    "\n",
    "    # === Extract mean spectra ===\n",
    "    for _, row in tqdm(df.iterrows(), total=len(df), desc=f\"{grid_size}x{grid_size} extraction (apple-based)\"):\n",
    "        try:\n",
    "            path = Path(row[\"path\"])\n",
    "            if not path.exists():\n",
    "                continue\n",
    "\n",
    "            data = np.load(path)\n",
    "            if \"cube\" not in data:\n",
    "                continue\n",
    "\n",
    "            cube = data[\"cube\"]\n",
    "            patch_vectors = extract_mean_vectors_from_crop(cube, margin_frac, grid_size)\n",
    "\n",
    "            for vec in patch_vectors:\n",
    "                mean_spectra.append({\n",
    "                    **{f\"band_{i}\": val for i, val in enumerate(vec)},\n",
    "                    \"apple_content\": row[\"label\"],\n",
    "                    \"apple_type\": row[\"apple_type\"].lower()\n",
    "                })\n",
    "\n",
    "        except Exception as e:\n",
    "            print(f\"❌ Error processing {row['path']}: {e}\")\n",
    "\n",
    "    # === Build final dataframe and split ===\n",
    "    df_final = pd.DataFrame(mean_spectra)\n",
    "\n",
    "    train_df = df_final[~df_final[\"apple_type\"].isin(val_apple_types | test_apple_types)]\n",
    "    val_df   = df_final[df_final[\"apple_type\"].isin(val_apple_types)]\n",
    "    test_df  = df_final[df_final[\"apple_type\"].isin(test_apple_types)]\n",
    "\n",
    "    # === Save outputs ===\n",
    "    train_df.to_csv(output_dir / f\"{grid_size}x{grid_size}_train_apple.csv\", index=False)\n",
    "    val_df.to_csv(output_dir / f\"{grid_size}x{grid_size}_val_apple.csv\", index=False)\n",
    "    test_df.to_csv(output_dir / f\"{grid_size}x{grid_size}_test_apple.csv\", index=False)\n",
    "\n",
    "    print(f\"✅ Done ({grid_size}×{grid_size}). Train: {len(train_df)}, Val: {len(val_df)}, Test: {len(test_df)}\")\n"
   ]
  },
  {
   "cell_type": "code",
   "execution_count": null,
   "id": "6d121f9e-3d48-4da1-ae89-f3e2f55031f9",
   "metadata": {},
   "outputs": [],
   "source": [
    "df = pd.read_csv(csv_path)\n",
    "print(f\"Loaded {len(df)} image records.\")"
   ]
  },
  {
   "cell_type": "code",
   "execution_count": null,
   "id": "a562e92c-4c90-4cc6-a900-920b298f7994",
   "metadata": {},
   "outputs": [],
   "source": [
    "generate_apple_based_split(df, grid_size=1)\n",
    "generate_apple_based_split(df, grid_size=2)\n",
    "generate_apple_based_split(df, grid_size=3)\n",
    "generate_apple_based_split(df, grid_size=4)\n",
    "generate_apple_based_split(df, grid_size=5)"
   ]
  },
  {
   "cell_type": "markdown",
   "id": "ae99e924-faef-4712-9027-3f67a004f962",
   "metadata": {},
   "source": [
    "#\n",
    "# Sugar concentration-based splitting"
   ]
  },
  {
   "cell_type": "code",
   "execution_count": null,
   "id": "b2d2b2ff-3d4b-4035-91cb-0a69f9f780f4",
   "metadata": {},
   "outputs": [],
   "source": [
    "split_rules = {\n",
    "    \"aport\":       {\"test\": {25, 45},  \"val\": {65}},\n",
    "    \"gala\":        {\"test\": {30, 50},  \"val\": {70}},\n",
    "    \"golden\":      {\"test\": {35, 55},  \"val\": {75}},\n",
    "    \"granny\":      {\"test\": {60},      \"val\": {40, 50, 55}},\n",
    "    \"prince\":      {\"test\": {40},      \"val\": {45, 50, 60}},\n",
    "    \"idared\":      {\"test\": {45, 65},  \"val\": {25}},\n",
    "    \"semerenko\":   {\"test\": {50, 70},  \"val\": {30}},\n",
    "    \"starcrimson\": {\"test\": {55, 75},  \"val\": {35}},\n",
    "}\n",
    "\n",
    "def get_split_rule_based(row):\n",
    "    \"\"\"\n",
    "    Assigns each sample to train/val/test based on its apple type and sugar concentration.\n",
    "    \"\"\"\n",
    "    apple = row[\"apple_type\"]\n",
    "    label = int(round(row[\"apple_content\"]))\n",
    "    if apple in split_rules:\n",
    "        if label in split_rules[apple][\"test\"]:\n",
    "            return \"test\"\n",
    "        elif label in split_rules[apple][\"val\"]:\n",
    "            return \"val\"\n",
    "    return \"train\"\n"
   ]
  },
  {
   "cell_type": "code",
   "execution_count": null,
   "id": "fc5f7565-2ab1-40ae-be39-f51d8ebb3b75",
   "metadata": {},
   "outputs": [],
   "source": [
    "def generate_rule_based_split(df, grid_size: int):\n",
    "    \"\"\"\n",
    "    Extracts mean spectral vectors for the specified grid size,\n",
    "    applies the rule-based splitting strategy, and saves train/val/test CSVs.\n",
    "    \"\"\"\n",
    "    mean_spectra = []\n",
    "\n",
    "    for _, row in tqdm(df.iterrows(), total=len(df), desc=f\"{grid_size}x{grid_size} extraction\"):\n",
    "        try:\n",
    "            path = Path(row[\"path\"])\n",
    "            if not path.exists():\n",
    "                continue\n",
    "\n",
    "            data = np.load(path)\n",
    "            if \"cube\" not in data:\n",
    "                continue\n",
    "\n",
    "            cube = data[\"cube\"]\n",
    "            patch_vectors = extract_mean_vectors_from_crop(cube, margin_frac, grid_size)\n",
    "\n",
    "            for vec in patch_vectors:\n",
    "                mean_spectra.append({\n",
    "                    **{f\"band_{i}\": val for i, val in enumerate(vec)},\n",
    "                    \"apple_content\": row[\"label\"],\n",
    "                    \"apple_type\": row[\"apple_type\"].lower()\n",
    "                })\n",
    "        except Exception as e:\n",
    "            print(f\"❌ Error processing {row['path']}: {e}\")\n",
    "\n",
    "    df_final = pd.DataFrame(mean_spectra)\n",
    "    df_final[\"split\"] = df_final.apply(get_split_rule_based, axis=1)\n",
    "\n",
    "    train_df = df_final[df_final[\"split\"] == \"train\"].drop(columns=[\"split\"])\n",
    "    val_df   = df_final[df_final[\"split\"] == \"val\"].drop(columns=[\"split\"])\n",
    "    test_df  = df_final[df_final[\"split\"] == \"test\"].drop(columns=[\"split\"])\n",
    "\n",
    "    train_df.to_csv(output_dir / f\"{grid_size}x{grid_size}_train_rule.csv\", index=False)\n",
    "    val_df.to_csv(output_dir / f\"{grid_size}x{grid_size}_val_rule.csv\", index=False)\n",
    "    test_df.to_csv(output_dir / f\"{grid_size}x{grid_size}_test_rule.csv\", index=False)\n",
    "\n",
    "    print(f\"✅ Done ({grid_size}×{grid_size}). Train: {len(train_df)}, Val: {len(val_df)}, Test: {len(test_df)}\")\n"
   ]
  },
  {
   "cell_type": "code",
   "execution_count": null,
   "id": "4b1c6d72-4f86-4e78-a1d3-e117f30b15fd",
   "metadata": {},
   "outputs": [],
   "source": [
    "df = pd.read_csv(csv_path)\n",
    "print(f\"Loaded {len(df)} image records.\")"
   ]
  },
  {
   "cell_type": "code",
   "execution_count": null,
   "id": "067ec156-6d73-4ac8-bcf0-6d0ec1aacef9",
   "metadata": {},
   "outputs": [],
   "source": [
    "generate_rule_based_split(df, grid_size=1)\n",
    "generate_rule_based_split(df, grid_size=2)\n",
    "generate_rule_based_split(df, grid_size=3)\n",
    "generate_rule_based_split(df, grid_size=4)\n",
    "generate_rule_based_split(df, grid_size=5)"
   ]
  }
 ],
 "metadata": {
  "kernelspec": {
   "display_name": "Python 3 (ipykernel)",
   "language": "python",
   "name": "python3"
  },
  "language_info": {
   "codemirror_mode": {
    "name": "ipython",
    "version": 3
   },
   "file_extension": ".py",
   "mimetype": "text/x-python",
   "name": "python",
   "nbconvert_exporter": "python",
   "pygments_lexer": "ipython3",
   "version": "3.10.16"
  }
 },
 "nbformat": 4,
 "nbformat_minor": 5
}
