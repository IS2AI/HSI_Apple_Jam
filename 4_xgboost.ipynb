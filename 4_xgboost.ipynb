{
 "cells": [
  {
   "cell_type": "code",
   "execution_count": 1,
   "id": "0bafd9ac-5e5e-4d47-9484-9100503e9d38",
   "metadata": {},
   "outputs": [],
   "source": [
    "import pandas as pd\n",
    "import numpy as np\n",
    "import matplotlib.pyplot as plt\n",
    "\n",
    "from sklearn.svm import SVR\n",
    "from sklearn.preprocessing import MinMaxScaler\n",
    "from sklearn.metrics import mean_squared_error, mean_absolute_error, r2_score\n",
    "from sklearn.model_selection import KFold, LeaveOneGroupOut\n"
   ]
  },
  {
   "cell_type": "code",
   "execution_count": 2,
   "id": "f5f99d17-389d-44c9-b5c3-da0da12f589a",
   "metadata": {},
   "outputs": [],
   "source": [
    "def report_metrics(name, y_true, y_pred):\n",
    "    \"\"\"\n",
    "    Prints RMSE, MAE and R² for the given predictions.\n",
    "    Args:\n",
    "        name (str): label for the dataset (e.g. 'Train', 'Val', 'Test').\n",
    "        y_true (array-like): ground-truth target values.\n",
    "        y_pred (array-like): model predictions.\n",
    "    \"\"\"\n",
    "    rmse = np.sqrt(mean_squared_error(y_true, y_pred))\n",
    "    mae  = mean_absolute_error(y_true, y_pred)\n",
    "    r2   = r2_score(y_true, y_pred)\n",
    "    print(f\"{name:25s} | RMSE: {rmse:7.4f} | MAE: {mae:7.4f} | R²: {r2:7.4f}\")\n"
   ]
  },
  {
   "cell_type": "code",
   "execution_count": 3,
   "id": "84d351a6-622a-4c03-9e7e-7a3ce9bb9a3a",
   "metadata": {},
   "outputs": [],
   "source": [
    "# === Configuration ===\n",
    "grid_size = 1                               # can be 1, 2, 3, 4, or 5\n",
    "file_prefix = f\"{grid_size}x{grid_size}\" \n",
    "\n",
    "# === Load pre-split datasets ===\n",
    "df_train = pd.read_csv(f\"{file_prefix}_train_apple.csv\")\n",
    "df_val   = pd.read_csv(f\"{file_prefix}_val_apple.csv\")\n",
    "df_test  = pd.read_csv(f\"{file_prefix}_test_apple.csv\")\n",
    "\n",
    "print(f\"Loaded datasets — Train: {len(df_train)}, Val: {len(df_val)}, Test: {len(df_test)}\")\n"
   ]
  },
  {
   "cell_type": "code",
   "execution_count": 4,
   "id": "6a6a9844-0dfa-48ce-8032-83125aadc7a9",
   "metadata": {},
   "outputs": [],
   "source": [
    "X_train = df_train.drop(columns=[\"apple_content\"])\n",
    "y_train = df_train[\"apple_content\"]\n",
    "\n",
    "X_val   = df_val.drop(columns=[\"apple_content\"])\n",
    "y_val   = df_val[\"apple_content\"]\n",
    "\n",
    "X_test  = df_test.drop(columns=[\"apple_content\"])\n",
    "y_test  = df_test[\"apple_content\"]\n"
   ]
  },
  {
   "cell_type": "code",
   "execution_count": null,
   "id": "93341f94-b308-446c-baf5-aeec86c9c91d",
   "metadata": {},
   "outputs": [],
   "source": [
    "# === Scale input features with Min-Max normalization ===\n",
    "input_scaler = MinMaxScaler()\n",
    "\n",
    "X_train_scaled = input_scaler.fit_transform(X_train)\n",
    "X_val_scaled   = input_scaler.transform(X_val)\n",
    "X_test_scaled  = input_scaler.transform(X_test)\n"
   ]
  },
  {
   "cell_type": "code",
   "execution_count": 6,
   "id": "c5cb71d5-6912-458e-9455-750f02faf04a",
   "metadata": {},
   "outputs": [],
   "source": [
    "# === Convert to XGBoost DMatrix format ===\n",
    "dtrain = xgb.DMatrix(X_train_scaled, label=y_train)\n",
    "dval   = xgb.DMatrix(X_val_scaled, label=y_val)\n",
    "dtest  = xgb.DMatrix(X_test_scaled)\n",
    "\n",
    "# === Training parameters ===\n",
    "params = {\n",
    "    'objective': 'reg:squarederror',\n",
    "    'eval_metric': 'rmse',\n",
    "    'max_depth': 2,        \n",
    "    'eta': 0.15,             \n",
    "    'subsample': 0.8,        \n",
    "    'colsample_bytree': 1.0, \n",
    "    'lambda': 2.0,           \n",
    "    'alpha': 0.1,            \n",
    "    'seed': 42\n",
    "}\n"
   ]
  },
  {
   "cell_type": "code",
   "execution_count": 7,
   "id": "1fac0b26-ff84-4d06-a0c7-14ab1cca9f18",
   "metadata": {},
   "outputs": [],
   "source": [
    "# === Train the model with early stopping ===\n",
    "evals = [(dtrain, 'train'), (dval, 'val')]\n",
    "\n",
    "model = xgb.train(\n",
    "    params=params,\n",
    "    dtrain=dtrain,\n",
    "    num_boost_round=400,\n",
    "    evals=evals,\n",
    "    early_stopping_rounds=40,\n",
    "    verbose_eval=False\n",
    ")\n",
    "\n",
    "print(f\"✅ Model trained successfully for grid size: {grid_size}×{grid_size}\")\n"
   ]
  },
  {
   "cell_type": "code",
   "execution_count": 8,
   "id": "51891c89-6480-457d-9d18-f49865e048b4",
   "metadata": {},
   "outputs": [],
   "source": [
    "# === Generate predictions ===\n",
    "train_preds = model.predict(dtrain)\n",
    "test_preds  = model.predict(dtest)\n",
    "print(\"✅ Predictions generated.\")\n"
   ]
  },
  {
   "cell_type": "code",
   "execution_count": null,
   "id": "7976c9af-d824-4623-9b6a-a9ad3e699857",
   "metadata": {},
   "outputs": [],
   "source": [
    "# === Evaluate performance on Train and Test sets ===\n",
    "report_metrics(\"Train\", y_train, train_preds)\n",
    "report_metrics(\"Test\",  y_test,  test_preds)\n"
   ]
  }
 ],
 "metadata": {
  "kernelspec": {
   "display_name": "Python 3 (ipykernel)",
   "language": "python",
   "name": "python3"
  },
  "language_info": {
   "codemirror_mode": {
    "name": "ipython",
    "version": 3
   },
   "file_extension": ".py",
   "mimetype": "text/x-python",
   "name": "python",
   "nbconvert_exporter": "python",
   "pygments_lexer": "ipython3",
   "version": "3.10.16"
  }
 },
 "nbformat": 4,
 "nbformat_minor": 5
}
