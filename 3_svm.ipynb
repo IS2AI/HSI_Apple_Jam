{
 "cells": [
  {
   "cell_type": "code",
   "execution_count": 1,
   "id": "c597e872-5d62-4330-873a-beaa332ed210",
   "metadata": {},
   "outputs": [],
   "source": [
    "import pandas as pd\n",
    "import numpy as np\n",
    "import matplotlib.pyplot as plt\n",
    "\n",
    "from sklearn.svm import SVR\n",
    "from sklearn.preprocessing import MinMaxScaler\n",
    "from sklearn.metrics import mean_squared_error, mean_absolute_error, r2_score\n",
    "from sklearn.model_selection import KFold, LeaveOneGroupOut"
   ]
  },
  {
   "cell_type": "code",
   "execution_count": 2,
   "id": "a9faa894-83e3-4793-9ea6-9be8875512f5",
   "metadata": {},
   "outputs": [],
   "source": [
    "def report_metrics(name, y_true, y_pred):\n",
    "    \"\"\"\n",
    "    Prints RMSE, MAE and R² for the given predictions.\n",
    "    Args:\n",
    "        name (str): label for the dataset (e.g. 'Train', 'Val', 'Test').\n",
    "        y_true (array-like): ground-truth target values.\n",
    "        y_pred (array-like): model predictions.\n",
    "    \"\"\"\n",
    "    rmse = np.sqrt(mean_squared_error(y_true, y_pred))\n",
    "    mae  = mean_absolute_error(y_true, y_pred)\n",
    "    r2   = r2_score(y_true, y_pred)\n",
    "    print(f\"{name:25s} | RMSE: {rmse:7.4f} | MAE: {mae:7.4f} | R²: {r2:7.4f}\")\n"
   ]
  },
  {
   "cell_type": "code",
   "execution_count": 3,
   "id": "a2f44b81-a2b6-473c-b524-d78107902662",
   "metadata": {},
   "outputs": [],
   "source": [
    "grid_size = 1                               # can be 1, 2, 3, 4, or 5\n",
    "file_prefix = f\"{grid_size}x{grid_size}\"  \n",
    "\n",
    "# === Load pre-split datasets ===\n",
    "df_train = pd.read_csv(f\"{file_prefix}_train_apple.csv\")\n",
    "df_test  = pd.read_csv(f\"{file_prefix}_test_apple.csv\")\n",
    "\n",
    "print(f\"Loaded datasets — Train: {len(df_train)}, Test: {len(df_test)}\")\n"
   ]
  },
  {
   "cell_type": "code",
   "execution_count": 4,
   "id": "ad21ce0a-f7fd-4ccf-84e5-e0633643ec68",
   "metadata": {},
   "outputs": [],
   "source": [
    "# === Separate features and target variable ===\n",
    "X_train = df_train.drop(columns=[\"apple_content\"])\n",
    "y_train = df_train[\"apple_content\"]\n",
    "\n",
    "X_test  = df_test.drop(columns=[\"apple_content\"])\n",
    "y_test  = df_test[\"apple_content\"]"
   ]
  },
  {
   "cell_type": "code",
   "execution_count": 5,
   "id": "2a703a17-6e45-4353-860b-a379b873af5d",
   "metadata": {},
   "outputs": [],
   "source": [
    "# === Feature and target scaling using Min-Max normalization ===\n",
    "input_scaler  = MinMaxScaler()\n",
    "target_scaler = MinMaxScaler()\n",
    "\n",
    "# Fit scalers on training data\n",
    "X_train_scaled = input_scaler.fit_transform(X_train)\n",
    "X_test_scaled  = input_scaler.transform(X_test)\n",
    "\n",
    "y_train_scaled = target_scaler.fit_transform(y_train.values.reshape(-1, 1)).flatten()\n",
    "y_test_scaled  = target_scaler.transform(y_test.values.reshape(-1, 1)).flatten()\n"
   ]
  },
  {
   "cell_type": "code",
   "execution_count": null,
   "id": "a67d2fe2-f1bc-48b8-a23b-dfe0cc714461",
   "metadata": {},
   "outputs": [],
   "source": [
    "# === Train SVM regression model ===\n",
    "svr = SVR(kernel=\"rbf\", C=110, epsilon=0.2, gamma=\"scale\")\n",
    "svr.fit(X_train_scaled, y_train_scaled)\n",
    "\n",
    "print(f\"✅ SVM trained successfully for grid size: {grid_size}×{grid_size}\")"
   ]
  },
  {
   "cell_type": "code",
   "execution_count": 7,
   "id": "ebb9aebf-79c3-43ce-b730-b7298fb8139d",
   "metadata": {},
   "outputs": [],
   "source": [
    "train_preds_scaled = svr.predict(X_train_scaled)\n",
    "train_preds = target_scaler.inverse_transform(train_preds_scaled.reshape(-1, 1)).flatten()\n",
    "train_targets = target_scaler.inverse_transform(y_train_scaled.reshape(-1, 1)).flatten()\n",
    "\n",
    "test_preds_scaled = svr.predict(X_test_scaled)\n",
    "test_preds = target_scaler.inverse_transform(test_preds_scaled.reshape(-1, 1)).flatten()\n",
    "test_targets = target_scaler.inverse_transform(y_test_scaled.reshape(-1, 1)).flatten()"
   ]
  },
  {
   "cell_type": "code",
   "execution_count": null,
   "id": "e6002f53-361c-44dc-88ce-f2ea300fa51b",
   "metadata": {},
   "outputs": [],
   "source": [
    "report_metrics(\"Train\", train_targets, train_preds)\n",
    "report_metrics(\"Test\", test_targets, test_preds)"
   ]
  }
 ],
 "metadata": {
  "kernelspec": {
   "display_name": "Python 3 (ipykernel)",
   "language": "python",
   "name": "python3"
  },
  "language_info": {
   "codemirror_mode": {
    "name": "ipython",
    "version": 3
   },
   "file_extension": ".py",
   "mimetype": "text/x-python",
   "name": "python",
   "nbconvert_exporter": "python",
   "pygments_lexer": "ipython3",
   "version": "3.10.16"
  }
 },
 "nbformat": 4,
 "nbformat_minor": 5
}
